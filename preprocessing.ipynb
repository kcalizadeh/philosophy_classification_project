{
 "metadata": {
  "language_info": {
   "codemirror_mode": {
    "name": "ipython",
    "version": 3
   },
   "file_extension": ".py",
   "mimetype": "text/x-python",
   "name": "python",
   "nbconvert_exporter": "python",
   "pygments_lexer": "ipython3",
   "version": "3.6.9-final"
  },
  "orig_nbformat": 2,
  "kernelspec": {
   "name": "python3",
   "display_name": "Python 3"
  }
 },
 "nbformat": 4,
 "nbformat_minor": 2,
 "cells": [
  {
   "source": [
    "Our overall goal is to classify texts based on the school of philosophy they come from. If we can do this, we should be able to build an app that can take user input and classify it, thus giving us insight into what school of thought new texts might represent or be aligned with."
   ],
   "cell_type": "markdown",
   "metadata": {}
  },
  {
   "cell_type": "code",
   "execution_count": 1,
   "metadata": {},
   "outputs": [],
   "source": [
    "import pandas as pd\n",
    "import requests\n",
    "import tweepy\n",
    "import numpy as np\n",
    "from nltk import sent_tokenize\n",
    "import re\n",
    "import json\n",
    "import PyPDF2\n",
    "\n",
    "def get_guten(url):\n",
    "    # retrieve the source text\n",
    "    r = requests.get(url)\n",
    "    r.encoding = 'utf-8'\n",
    "    text = r.text\n",
    "    return text\n",
    "\n",
    "def get_text(path, encoding='utf8'):\n",
    "    f = open(path, 'r', encoding=encoding)\n",
    "    text = f.read()\n",
    "    f.close()\n",
    "    return text"
   ]
  },
  {
   "source": [
    "We chose to work with 8 schools of thought, representing nearly 2000 years of the history of western thought.\n",
    "\n",
    "- Plato\n",
    "- Aristotle\n",
    "- the Rationalists\n",
    "- the Empiricists\n",
    "- the German Idealists\n",
    "- Analytic Philosophy, which can be broken down into:\n",
    "    - early Analytic\n",
    "    - contemporary Analytic\n",
    "- Phenomenology\n",
    "- Contintental Philosophy\n",
    "\n",
    "The following cell reads our source texts; some are from Project Gutenberg, while others are sourced independently.\n"
   ],
   "cell_type": "markdown",
   "metadata": {}
  },
  {
   "cell_type": "code",
   "execution_count": 3,
   "metadata": {},
   "outputs": [],
   "source": [
    "# load the texts\n",
    "\n",
    "## plato\n",
    "plato_complete = get_text('.\\phil_txts\\plato_complete_works.txt')\n",
    "\n",
    "# aristotle\n",
    "aristotle_vol1 = get_text('.\\phil_txts\\\\aristotle_complete_works_v1.txt')\n",
    "aristotle_vol2 = get_text('.\\phil_txts\\\\aristotle_complete_works_v2.txt')\n",
    "\n",
    "## rationalists\n",
    "spinoza_ethics = get_guten('http://www.gutenberg.org/cache/epub/3800/pg3800.txt')\n",
    "spinoza_improve_understanding = get_guten('http://www.gutenberg.org/cache/epub/1016/pg1016.txt')\n",
    "leibniz_theodicy = get_guten('http://www.gutenberg.org/cache/epub/17147/pg17147.txt')\n",
    "leibniz_monadology = get_text('.\\phil_txts\\leibniz_monadology.txt')\n",
    "descartes_discourse_method = get_guten('http://www.gutenberg.org/cache/epub/59/pg59.txt')\n",
    "descartes_meditations = get_text('.\\phil_txts\\descartes_meditations.txt')\n",
    "\n",
    "## empiricists\n",
    "locke_understanding_1 = get_guten('http://www.gutenberg.org/cache/epub/10615/pg10615.txt')\n",
    "locke_understanding_2 = get_guten('http://www.gutenberg.org/cache/epub/10616/pg10616.txt')\n",
    "locke_treatise_gov = get_guten('http://www.gutenberg.org/cache/epub/7370/pg7370.txt')\n",
    "hume_treatise = get_guten('http://www.gutenberg.org/cache/epub/4705/pg4705.txt')\n",
    "hume_natural_religion = get_guten('http://www.gutenberg.org/cache/epub/4583/pg4583.txt')\n",
    "hume_princ_morals = get_guten('http://www.gutenberg.org/cache/epub/4320/pg4320.txt')\n",
    "berkeley_treatise = get_guten('http://www.gutenberg.org/cache/epub/4723/pg4723.txt')\n",
    "berkeley_three_dialogues = get_guten('http://www.gutenberg.org/cache/epub/4724/pg4724.txt')\n",
    "\n",
    "## german idealism\n",
    "kant_practical_reason = get_text('.\\phil_txts\\kant_critique_practical_reason.txt')\n",
    "kant_judgement = get_text('.\\phil_txts\\kant_critique_judgement.txt')\n",
    "kant_pure_reason = get_text('.\\phil_txts\\kant_pure_reason.txt')\n",
    "fichte_ethics = get_text('.\\phil_txts\\\\fichte_system_of_ethics.txt')\n",
    "hegel_logic = get_text('.\\phil_txts\\hegel_science_of_logic.txt')\n",
    "hegel_phenomenology = get_text('.\\phil_txts\\hegel_phenomenology_of_spirit.txt')\n",
    "hegel_right = get_text('.\\phil_txts\\hegel_elements_of_right.txt')\n",
    "\n",
    "## early analytic\n",
    "russell_problems_of_phil = get_guten('http://www.gutenberg.org/cache/epub/5827/pg5827.txt')\n",
    "russell_analylsis_of_mind = get_guten('http://www.gutenberg.org/cache/epub/2529/pg2529.txt')\n",
    "moore_studies = get_guten('http://www.gutenberg.org/files/50141/50141-0.txt')\n",
    "moore_principia = get_guten('http://www.gutenberg.org/files/53430/53430-0.txt')\n",
    "wittgenstein_tractatus = get_text('.\\phil_txts\\wittgenstein_tractatus.txt')\n",
    "wittgenstein_investigations = get_text('.\\phil_txts\\wittgenstien_philosophical_investigations.txt')\n",
    "\n",
    "## modern analytic\n",
    "lewis_papers1 = get_text('.\\phil_txts\\lewis_papers_1.txt')\n",
    "lewis_papers2 = get_text('.\\phil_txts\\lewis_papers_2.txt')\n",
    "quine_quintessence = get_text('.\\phil_txts\\quine_quintessence.txt')\n",
    "popper_science = get_text('.\\phil_txts\\popper_logic_of_science.txt')\n",
    "popper_open_society = get_text('.\\phil_txts\\popper_open_society.txt')\n",
    "kripke_troubles = get_text('.\\phil_txts\\kripke_philosophical_troubles.txt')\n",
    "kripke_naming = get_text('.\\phil_txts\\kripke_naming_necessity.txt')\n",
    "\n",
    "## phenomenology\n",
    "ponty_perception = get_text('.\\phil_txts\\merleau-ponty_phenomenology_of_perception.txt')\n",
    "husserl_idea_of = get_text('.\\phil_txts\\husserl_idea_of_phenomenology.txt')\n",
    "husserl_crisis = get_text('.\\phil_txts\\husserl_crisis_of_euro_sciences.txt')\n",
    "husserl_cartesian = get_text('.\\phil_txts\\husserl_cartesian_meditations.txt')\n",
    "heidegger_being_time = get_text('.\\phil_txts\\heidegger_being_and_time.txt')\n",
    "heidegger_track = get_text('.\\phil_txts\\heidegger_off_the_beaten_track.txt')\n",
    "\n",
    "## continental\n",
    "foucault_order = get_text('.\\phil_txts\\\\foucault_order_of_things.txt')\n",
    "foucault_madness = get_text('.\\phil_txts\\\\foucault_history_of_madness.txt')\n",
    "foucault_clinic = get_text('.\\phil_txts\\\\foucault_birth_of_clinic.txt')\n",
    "derrida_writing = get_text('.\\phil_txts\\derrida_writing_difference.txt')\n",
    "deleuze_oedipus = get_text('.\\phil_txts\\deleuze_guattari_anti-oedipus.txt')\n",
    "deleuze_diference = get_text('.\\phil_txts\\deleuze_difference_repetition.txt')\n",
    "\n"
   ]
  },
  {
   "source": [
    "Unfortunately, most of these texts include front and end-matter. There isn't a clear and consistent way that these are differentiated, so we go through them one by one to clip the ends and get the actual philosophical discussion. Some texts include footnotes from translators or editors as well, but removing those would be more time consuming than we can really do here. So we leave those footnotes as a kind of noise in our data, and hope to remove them in a future iteration."
   ],
   "cell_type": "markdown",
   "metadata": {}
  },
  {
   "cell_type": "code",
   "execution_count": null,
   "metadata": {},
   "outputs": [],
   "source": []
  }
 ]
}