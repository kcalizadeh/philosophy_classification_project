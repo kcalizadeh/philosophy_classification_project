{
 "metadata": {
  "language_info": {
   "codemirror_mode": {
    "name": "ipython",
    "version": 3
   },
   "file_extension": ".py",
   "mimetype": "text/x-python",
   "name": "python",
   "nbconvert_exporter": "python",
   "pygments_lexer": "ipython3",
   "version": "3.6.9-final"
  },
  "orig_nbformat": 2,
  "kernelspec": {
   "name": "learn-env",
   "display_name": "learn-env"
  }
 },
 "nbformat": 4,
 "nbformat_minor": 2,
 "cells": [
  {
   "source": [
    "Our overall goal is to classify texts based on the school of philosophy they come from. If we can do this, we should be able to build an app that can take user input and classify it, thus giving us insight into what school of thought new texts might represent or be aligned with."
   ],
   "cell_type": "markdown",
   "metadata": {}
  },
  {
   "cell_type": "code",
   "execution_count": 1,
   "metadata": {},
   "outputs": [],
   "source": [
    "import pandas as pd\n",
    "import requests\n",
    "import numpy as np\n",
    "from nltk import sent_tokenize\n",
    "import re\n",
    "import json\n",
    "import PyPDF2\n",
    "\n",
    "def get_guten(url):\n",
    "    # retrieve the source text\n",
    "    r = requests.get(url)\n",
    "    r.encoding = 'utf-8'\n",
    "    text = r.text\n",
    "    return text\n",
    "\n",
    "def get_text(path, encoding='utf8'):\n",
    "    f = open(path, 'r', encoding=encoding)\n",
    "    text = f.read()\n",
    "    f.close()\n",
    "    return text"
   ]
  },
  {
   "source": [
    "We chose to work with 8 schools of thought, representing nearly 2000 years of the history of western philosophy.\n",
    "\n",
    "- Plato\n",
    "- Aristotle\n",
    "- the Rationalists\n",
    "- the Empiricists\n",
    "- the German Idealists\n",
    "- Analytic Philosophy, which can be broken down into:\n",
    "    - early Analytic\n",
    "    - contemporary Analytic\n",
    "- Phenomenology\n",
    "- Contintental Philosophy\n",
    "\n",
    "The following cell reads our source texts; some are from Project Gutenberg, while others are sourced independently.\n"
   ],
   "cell_type": "markdown",
   "metadata": {}
  },
  {
   "cell_type": "code",
   "execution_count": 2,
   "metadata": {},
   "outputs": [],
   "source": [
    "# load the texts\n",
    "\n",
    "## plato\n",
    "plato_complete = get_text('.\\phil_txts\\plato_complete_works.txt')\n",
    "\n",
    "# aristotle\n",
    "aristotle_vol1 = get_text('.\\phil_txts\\\\aristotle_complete_works_v1.txt')\n",
    "aristotle_vol2 = get_text('.\\phil_txts\\\\aristotle_complete_works_v2.txt')\n",
    "\n",
    "## rationalists\n",
    "spinoza_ethics = get_guten('http://www.gutenberg.org/cache/epub/3800/pg3800.txt')\n",
    "spinoza_improve_understanding = get_guten('http://www.gutenberg.org/cache/epub/1016/pg1016.txt')\n",
    "leibniz_theodicy = get_guten('http://www.gutenberg.org/cache/epub/17147/pg17147.txt')\n",
    "descartes_discourse_method = get_guten('http://www.gutenberg.org/cache/epub/59/pg59.txt')\n",
    "descartes_meditations = get_text('.\\phil_txts\\descartes_meditations.txt')\n",
    "\n",
    "## empiricists\n",
    "locke_understanding_1 = get_guten('http://www.gutenberg.org/cache/epub/10615/pg10615.txt')\n",
    "locke_understanding_2 = get_guten('http://www.gutenberg.org/cache/epub/10616/pg10616.txt')\n",
    "locke_treatise_gov = get_guten('http://www.gutenberg.org/cache/epub/7370/pg7370.txt')\n",
    "hume_treatise = get_guten('http://www.gutenberg.org/cache/epub/4705/pg4705.txt')\n",
    "hume_natural_religion = get_guten('http://www.gutenberg.org/cache/epub/4583/pg4583.txt')\n",
    "berkeley_treatise = get_guten('http://www.gutenberg.org/cache/epub/4723/pg4723.txt')\n",
    "berkeley_three_dialogues = get_guten('http://www.gutenberg.org/cache/epub/4724/pg4724.txt')\n",
    "\n",
    "## german idealism\n",
    "kant_practical_reason = get_text('.\\phil_txts\\kant_critique_practical_reason.txt')\n",
    "kant_judgement = get_text('.\\phil_txts\\kant_critique_judgement.txt')\n",
    "kant_pure_reason = get_text('.\\phil_txts\\kant_pure_reason.txt')\n",
    "fichte_ethics = get_text('.\\phil_txts\\\\fichte_system_of_ethics.txt')\n",
    "hegel_logic = get_text('.\\phil_txts\\hegel_science_of_logic.txt')\n",
    "hegel_phenomenology = get_text('.\\phil_txts\\hegel_phenomenology_of_spirit.txt')\n",
    "hegel_right = get_text('.\\phil_txts\\hegel_elements_of_right.txt')\n",
    "\n",
    "## early analytic\n",
    "russell_problems_of_phil = get_guten('http://www.gutenberg.org/cache/epub/5827/pg5827.txt')\n",
    "russell_analylsis_of_mind = get_guten('http://www.gutenberg.org/cache/epub/2529/pg2529.txt')\n",
    "moore_studies = get_guten('http://www.gutenberg.org/files/50141/50141-0.txt')\n",
    "moore_principia = get_guten('http://www.gutenberg.org/files/53430/53430-0.txt')\n",
    "wittgenstein_tractatus = get_text('.\\phil_txts\\wittgenstein_tractatus.txt')\n",
    "wittgenstein_investigations = get_text('.\\phil_txts\\wittgenstien_philosophical_investigations.txt')\n",
    "\n",
    "## modern analytic\n",
    "lewis_papers1 = get_text('.\\phil_txts\\lewis_papers_1.txt')\n",
    "lewis_papers2 = get_text('.\\phil_txts\\lewis_papers_2.txt')\n",
    "quine_quintessence = get_text('.\\phil_txts\\quine_quintessence.txt')\n",
    "popper_science = get_text('.\\phil_txts\\popper_logic_of_science.txt')\n",
    "popper_open_society = get_text('.\\phil_txts\\popper_open_society.txt')\n",
    "kripke_troubles = get_text('.\\phil_txts\\kripke_philosophical_troubles.txt')\n",
    "kripke_naming = get_text('.\\phil_txts\\kripke_naming_necessity.txt')\n",
    "\n",
    "## phenomenology\n",
    "ponty_perception = get_text('.\\phil_txts\\merleau-ponty_phenomenology_of_perception.txt')\n",
    "husserl_idea_of = get_text('.\\phil_txts\\husserl_idea_of_phenomenology.txt')\n",
    "husserl_crisis = get_text('.\\phil_txts\\husserl_crisis_of_euro_sciences.txt')\n",
    "husserl_cartesian = get_text('.\\phil_txts\\husserl_cartesian_meditations.txt')\n",
    "heidegger_being_time = get_text('.\\phil_txts\\heidegger_being_and_time.txt')\n",
    "heidegger_track = get_text('.\\phil_txts\\heidegger_off_the_beaten_track.txt')\n",
    "\n",
    "## continental\n",
    "foucault_order = get_text('.\\phil_txts\\\\foucault_order_of_things.txt')\n",
    "foucault_madness = get_text('.\\phil_txts\\\\foucault_history_of_madness.txt')\n",
    "foucault_clinic = get_text('.\\phil_txts\\\\foucault_birth_of_clinic.txt')\n",
    "derrida_writing = get_text('.\\phil_txts\\derrida_writing_difference.txt')\n",
    "deleuze_oedipus = get_text('.\\phil_txts\\deleuze_guattari_anti-oedipus.txt')\n",
    "deleuze_diference = get_text('.\\phil_txts\\deleuze_difference_repetition.txt')\n",
    "\n"
   ]
  },
  {
   "source": [
    "Unfortunately, most of these texts include front and end-matter. There isn't a clear and consistent way that these are differentiated, so we go through them one by one to clip the ends and get the actual philosophical discussion. Some texts include footnotes from translators or editors as well, but removing those would be more time consuming than we can really do here. So we leave those footnotes as a kind of noise in our data, and hope to remove them in a future iteration."
   ],
   "cell_type": "markdown",
   "metadata": {}
  },
  {
   "cell_type": "code",
   "execution_count": 14,
   "metadata": {},
   "outputs": [],
   "source": [
    "plato_complete = plato_complete.split('find that an enticing')[1][388:].split('Demeter, whose cult at')[0]\n",
    "aristotle_vol_1 = aristotle_vol1.split('1a20-1b9')[1].split('799a16')[0]\n",
    "aristotle_vol_2 = aristotle_vol2.split('830a5-830b4')[1].split('1462a5-1462a13')[0]\n",
    "spinoza_ethics = spinoza_ethics.split('ranslated from the Latin by R.')[1][71:].split('End of the Ethics')[0]\n",
    "spinoza_improve_understanding = spinoza_improve_understanding.split('Farewell.*')[1][20:].split('End of ')[0]\n",
    "leinbiz_theodicy = leibniz_theodicy.split('appeared in 1710 as the')[1][202:].split('SUMMARY OF THE CON')[0][:-140]\n",
    "descartes_discourse_method = descartes_discourse_method.split('PREFATORY NOTE')[1][18:].split('End of the Pr')[0]\n",
    "descartes_meditations = descartes_meditations.split('\fLETTER')[1][1:].split('\fEXPLANATORY NOTES')[0][:-8]\n",
    "locke_understanding_1 = locke_understanding_1.split('2 Dorset Court, 24th of May, 1689')[1][50:].split('End of the Pro')[0][:-30]\n",
    "locke_understanding_2 = locke_understanding_2.split('1. Man fitted to form articulated Sounds.')[1][4:].split('End of the Pro')[0][:-25]\n",
    "locke_treatise_gov = locke_treatise_gov.split('now lodged in Christ College, Cambridge.')[1][21:].split('FINIS.')[0]\n",
    "hume_treatise = hume_treatise.split('ADVERTISEMENT')[1][9:].split('End of Pro')[0][:-14]\n",
    "hume_natural_religion = hume_natural_religion.split('PAMPHILUS TO HERMIPPUS')[1][6:].split('End of the Pro')[0][:-22]\n",
    "berkeley_treatise = berkeley_treatise.split('are too apt to condemn an opinion before they rightly')[1][47:].split('End of the Pr')[0][:-22]\n",
    "berkeley_three_dialogues = berkeley_three_dialogues.split('THE FIRST DIALOGUE')[1][17:].split('End of the Pro')[0][:-22]\n",
    "kant_practical_reason = kant_practical_reason.split('erner Pluhar an')[1][329:].split('stone of the wi')[0][:-20]\n",
    "kant_judgement = kant_judgement.split('TO THE FIRST EDITION,* 1790')[1][1:].split('\fEXPLANATORY NOTES')[0][:-39]\n",
    "kant_pure_reason = kant_pure_reason.split('Bacon of Verulam')[1][33:].split('(Persius, Satires, iii, 78-9).')[0][:-1]\n",
    "fichte_ethics = fichte_ethics.split('(“Krause Nachschrift,” 1798/99)')[1][111:].split('\fPage 345')[0][:-2]\n",
    "hegel_logic = hegel_logic.split('he complete transformati')[1][249:].split('Hegel’s Logic in its revised and unrevised parts')[0][:-32]\n",
    "hegel_phenomenology = hegel_phenomenology.split('\f\fPREFACE: ON SCIENTIFIC')[1][1:].split('1I Adaptation')[0][:-62]\n",
    "hegel_right = hegel_right.split('he immediate occasion f')[1][184:].split('I Hegel lectured on the topics in')[0][:-28]\n",
    "russell_problems_of_phil = russell_problems_of_phil.split('n the following pages')[1].split('BIBLIOGRAPHICAL NOTE')[0]\n",
    "russell_analylsis_of_mind = russell_analylsis_of_mind.split('H. D. Lewis')[2][21:].split('End of Pro')[0]\n",
    "moore_studies = moore_studies.split('Aristotelian Society,_ 1919-20.')[1][23:].split('E Wes')[0][:-10]\n",
    "moore_principia = moore_principia.split('AUCTOR')[1][20:].split('(129-133')[0]\n",
    "wittgenstein_tractatus = wittgenstein_tractatus.split('\f\fTRACTATUS LOGICO-PHILOSOPHICUS')[1][70:].split('I NDEX')[0][:-8]\n",
    "wittgenstein_investigations = wittgenstein_investigations.split('catty')[1][787:].split(\"above', 351\")[0]\n",
    "lewis_papers1 = lewis_papers1.split('The fifteen papers')[1][61:].split('Acquai')[0][:-10]\n",
    "lewis_papers2 = lewis_papers2.split('Part Four Counterfactuals and Time')[1][17:].split('end p.342')[0]\n",
    "quine_quintessence = quine_quintessence.split('\fT R UT H B Y C O N V E N T I O N')[1].split('\fCREDITS')[0][:-7]\n",
    "popper_science = popper_science.split('F IRST E NGLISH E DITION, 1959')[1][2:].split('This is the end of the text of the original book.')[0]\n"
   ]
  },
  {
   "cell_type": "code",
   "execution_count": 320,
   "metadata": {},
   "outputs": [
    {
     "output_type": "execute_result",
     "data": {
      "text/plain": [
       "' the defences of obscurantism\\nwhich bar the way of scientiﬁc advance. For the worship of this idol\\nhampers not only the boldness of our questions, but also the rigour\\nand the integrity of our tests. The wrong view of science betrays itself\\nin the craving to be right; for it is not his possession of knowledge, of\\nirrefutable truth, that makes the man of science, but his persistent and\\nrecklessly critical quest for truth.\\nHas our attitude, then, to be one of resignation? Have we to say that\\nscience can fulﬁl only its biological task; that it can, at best, merely\\nprove its mettle in practical applications which may corroborate it? Are\\nits intellectual problems insoluble? I do not think so. Science never\\npursues the illusory aim of making its answers ﬁnal, or even probable.\\nIts advance is, rather, towards an inﬁnite yet attainable aim: that of ever\\ndiscovering new, deeper, and more general problems, and of subjecting\\nour ever tentative answers to ever renewed and ever more rigorous\\ntests.\\n'"
      ]
     },
     "metadata": {},
     "execution_count": 320
    }
   ],
   "source": [
    "popper_science.split('F IRST E NGLISH E DITION, 1959')[1][2:].split('This is the end of the text of the original book.')[0]"
   ]
  },
  {
   "cell_type": "code",
   "execution_count": null,
   "metadata": {},
   "outputs": [],
   "source": []
  }
 ]
}