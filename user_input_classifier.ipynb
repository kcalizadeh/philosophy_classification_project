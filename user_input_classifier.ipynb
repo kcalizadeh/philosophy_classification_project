{
 "metadata": {
  "language_info": {
   "codemirror_mode": {
    "name": "ipython",
    "version": 3
   },
   "file_extension": ".py",
   "mimetype": "text/x-python",
   "name": "python",
   "nbconvert_exporter": "python",
   "pygments_lexer": "ipython3",
   "version": "3.6.9-final"
  },
  "orig_nbformat": 2,
  "kernelspec": {
   "name": "python3",
   "display_name": "Python 3",
   "language": "python"
  }
 },
 "nbformat": 4,
 "nbformat_minor": 2,
 "cells": [
  {
   "source": [
    "## User Text Classifier\n",
    "\n",
    "Being able to classify texts by philosophers is nice, but the useful part of this project would be classify text from users. We could, for example, examine tweets or other a user's posting history on any website to classify them as belonging to one school of though or another. This could then be used for sociological studies, marketing, or even just as a finger on the thumb of cultural shifts.\n",
    "\n",
    "As a proof of concept, we built a small function that would take user input and return the school of philosophy it was most aligned with."
   ],
   "cell_type": "markdown",
   "metadata": {}
  },
  {
   "cell_type": "code",
   "execution_count": 2,
   "metadata": {},
   "outputs": [
    {
     "output_type": "stream",
     "name": "stdout",
     "text": [
      "The school of philosophy most similar to your text is German Idealism\n"
     ]
    }
   ],
   "source": [
    "from functions import *\n",
    "\n",
    "to_classify = input('enter your text here')\n",
    "\n",
    "classify_text_NB(to_classify)"
   ]
  },
  {
   "source": [
    "The function can be found in the functions.py file, but is also presented below for convenience."
   ],
   "cell_type": "markdown",
   "metadata": {}
  },
  {
   "cell_type": "code",
   "execution_count": 105,
   "metadata": {},
   "outputs": [],
   "source": [
    "def classify_text(to_classify):\n",
    "    with open('NB_model.pkl', 'rb') as f:\n",
    "        nb_model = pickle.load(f)\n",
    "    with open('vectorizer.pkl', 'rb') as f:\n",
    "        vectorizer = pickle.load(f)\n",
    "    to_classify = [to_classify]\n",
    "    tf_idf_input = vectorizer.transform(to_classify)\n",
    "    prediction = nb_model.predict(tf_idf_input.todense())[0].replace('_', ' ').title()\n",
    "    print(f'The school of philosophy most similar to your text is {prediction}')\n"
   ]
  },
  {
   "cell_type": "code",
   "execution_count": null,
   "metadata": {},
   "outputs": [],
   "source": []
  }
 ]
}